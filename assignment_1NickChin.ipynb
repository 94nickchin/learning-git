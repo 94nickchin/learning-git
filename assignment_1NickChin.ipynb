{
 "cells": [
  {
   "cell_type": "markdown",
   "metadata": {},
   "source": [
    "# Problem 1\n",
    "\n",
    "Write a Python function, called `find_max()`, to find and return the largest number in a non-empty list of numbers. E.g., if `nums = [1, 2, 3, 4, 5]`, `find_max(nums)` should return `5`. \n",
    "\n",
    "_Note:_ Python has a builtin `max()` function; don't use it for this exercise! The goal here is to practice solving basic programming problems on your own.\n",
    "\n",
    "_Purpose:_ To give you practice solving basic programming problems with Python and working with array-like data structures."
   ]
  },
  {
   "cell_type": "markdown",
   "metadata": {},
   "source": [
    "Create and test some sample lists to demonstrate that your `find_max()` function works correctly."
   ]
  },
  {
   "cell_type": "code",
   "execution_count": 18,
   "metadata": {},
   "outputs": [],
   "source": [
    "def find_max(mylist):\n",
    "    '''Doc String'''\n",
    "    '''Iterate through each value in the list and if the number is higher than the\n",
    "    previous value, replace the past highest value'''\n",
    "    #initialize 'highest number\" as first \n",
    "    highest_num = mylist[0]\n",
    "    for num in mylist:\n",
    "        #if the number in the list is higher than the previous one\n",
    "        #replace it \n",
    "        if num > highest_num:\n",
    "            highest_num = num\n",
    "    #return the highest number\n",
    "    return highest_num"
   ]
  },
  {
   "cell_type": "code",
   "execution_count": 19,
   "metadata": {},
   "outputs": [
    {
     "data": {
      "text/plain": [
       "-2"
      ]
     },
     "execution_count": 19,
     "metadata": {},
     "output_type": "execute_result"
    }
   ],
   "source": [
    "my_list = [-2,-6,-23,-646]\n",
    "find_max(my_list)"
   ]
  },
  {
   "cell_type": "code",
   "execution_count": 1,
   "metadata": {},
   "outputs": [],
   "source": [
    "import find_max\n",
    "\n",
    "def test_max():\n",
    "    '''Test the find_max function in find_max.py'''\n",
    "    tests= []\n",
    "    tests.append([3,45,78,2,53,1,0])\n",
    "    tests.append([-2,-6,-23,-646])\n",
    "    tests.append([0.5,-1.4,5.3,-2.44])\n",
    "\n",
    "    for test in tests:\n",
    "        assert find_max.find_max(test) == max(test), f'Hmm...your find_max function failed my test: {find_max.find_max(test)} is not the maximum value in {test}.'\n",
    "\n",
    "test_max()"
   ]
  },
  {
   "cell_type": "markdown",
   "metadata": {},
   "source": [
    "## Auto-grading:\n",
    "**Once you think you have a good function, add your code to the file [find_max.py](find_max.py)**. When your submit your code in GitHub, a set of tests will be run against the find_max.py script to determine if your code is correct. Make sure you:\n",
    "* `git add find_max.py` \n",
    "* `git commit -m 'adding my solution'` (or whatever message you want)\n",
    "* `git push` so your code becomes part of the repository."
   ]
  },
  {
   "cell_type": "markdown",
   "metadata": {},
   "source": [
    "# Problem 2\n",
    "\n",
    "Write a Python function, `find_median()`, that returns the median value of a non-empty list of numbers. Use the [usual definition of \"median\"](https://stattrek.com/statistics/dictionary.aspx?definition=median). You will likely find the [Python list documentation](https://docs.python.org/3/tutorial/datastructures.html) to be helpful for solving this problem.\n",
    "\n",
    "_Note:_ You can find ready-to-use median function in numpy and elsewhere; don't use them for this exercise! The goal here is to practice solving basic programming problems on your own.\n",
    "\n",
    "_Purpose:_ To give you practice solving basic programming problems with Python and working with array-like data structures."
   ]
  },
  {
   "cell_type": "code",
   "execution_count": null,
   "metadata": {},
   "outputs": [],
   "source": []
  },
  {
   "cell_type": "markdown",
   "metadata": {},
   "source": [
    "Create and test some sample lists to demonstrate that your `find_median()` function works correctly."
   ]
  },
  {
   "cell_type": "code",
   "execution_count": 2,
   "metadata": {},
   "outputs": [],
   "source": [
    "def quicksort(array):\n",
    "    if len(array) < 2:\n",
    "        return array\n",
    "    else:\n",
    "        pivot = array[0]\n",
    "        less = [i for i in array[1:] if i<= pivot]\n",
    "        greater = [i for i in array[1:] if i > pivot]\n",
    "        return quicksort(less) + [pivot] + quicksort(greater)"
   ]
  },
  {
   "cell_type": "code",
   "execution_count": 5,
   "metadata": {},
   "outputs": [],
   "source": [
    "sorted_array = quicksort([12,4,6,500,45])"
   ]
  },
  {
   "cell_type": "code",
   "execution_count": 6,
   "metadata": {},
   "outputs": [
    {
     "data": {
      "text/plain": [
       "[4, 6, 12, 45, 500]"
      ]
     },
     "execution_count": 6,
     "metadata": {},
     "output_type": "execute_result"
    }
   ],
   "source": [
    "sorted_array"
   ]
  },
  {
   "cell_type": "code",
   "execution_count": 11,
   "metadata": {},
   "outputs": [
    {
     "name": "stdout",
     "output_type": "stream",
     "text": [
      "12\n"
     ]
    }
   ],
   "source": [
    "list_len = len(sorted_array)\n",
    "index = (list_len - 1)//2\n",
    "\n",
    "if list_len%2:\n",
    "    print(sorted_array[index])\n",
    "else:\n",
    "    print((sorted_array[index] + sorted_array[index+1])/2)"
   ]
  },
  {
   "cell_type": "code",
   "execution_count": 3,
   "metadata": {},
   "outputs": [],
   "source": [
    "def find_median(array):\n",
    "    '''Doc String'''\n",
    "    '''First step to finding the median is the order the list.\n",
    "    After ordering the list, find the middle value (and if there are \n",
    "    an even number of values, take the average of the two middle values)'''\n",
    "    \n",
    "    #The first part of this function runs the quick sort algorithm which uses a recursive function\n",
    "    def quicksort(array):\n",
    "        if len(array) < 2:\n",
    "            return array\n",
    "        else:\n",
    "            pivot = array[0]\n",
    "            less = [i for i in array[1:] if i<= pivot]\n",
    "            greater = [i for i in array[1:] if i > pivot]\n",
    "            return quicksort(less) + [pivot] + quicksort(greater)\n",
    "    sorted_array = quicksort(array)\n",
    "    \n",
    "    #Find the middle value of the sorted list\n",
    "    list_len = len(sorted_array)\n",
    "    index = (list_len - 1)//2\n",
    "\n",
    "    if list_len%2:\n",
    "        return(sorted_array[index])\n",
    "    else:\n",
    "        return((sorted_array[index] + sorted_array[index+1])/2)"
   ]
  },
  {
   "cell_type": "code",
   "execution_count": 3,
   "metadata": {},
   "outputs": [
    {
     "data": {
      "text/plain": [
       "13.0"
      ]
     },
     "execution_count": 3,
     "metadata": {},
     "output_type": "execute_result"
    }
   ],
   "source": [
    "my_list = [200,100,2,5,1000,-5,7,19]\n",
    "find_median(my_list)"
   ]
  },
  {
   "cell_type": "code",
   "execution_count": 5,
   "metadata": {},
   "outputs": [],
   "source": [
    "import statistics\n",
    "import find_median\n",
    "\n",
    "def test_median():\n",
    "    '''Test the find_median function in find_median.py '''\n",
    "    tests= []\n",
    "    tests.append([3,45,78,2,53,1,0])\n",
    "    tests.append([1,2,3,4,5,6,7,8,9,10])\n",
    "    tests.append([1,2,3,4,5,5,7,8,9,10])\n",
    "    tests.append([1,2,3,5,5,5,7,8,9,10])\n",
    "    tests.append([-1,-2,-3,-4,-5,-5,-7,-8,-9,-10])\n",
    "    tests.append([1.5,2.2,3.6,4.3,5.7,6.4,7.2,8.1,9.5,10.0])\n",
    "\n",
    "    for test in tests:\n",
    "        assert find_median.find_median(test) == statistics.median(test), f'Hmm...your find_median function failed my test: {find_median.find_median(test)} is not the median value in {test}.'\n",
    "\n",
    "test_median()\n"
   ]
  },
  {
   "cell_type": "markdown",
   "metadata": {},
   "source": [
    "## Auto-grading:\n",
    "**Once you think you have a good function, add your code to the file [find_median.py](find_median.py)**. When your submit your code in GitHub, a set of tests will be run against the find_median.py script to determine if your code is correct. Make sure you \n",
    "* `git add find_median.py` \n",
    "* `git commit -m 'adding my solution'` (or whatever message you want)\n",
    "* `git push` so your code becomes part of the repository."
   ]
  },
  {
   "cell_type": "markdown",
   "metadata": {},
   "source": [
    "# Problem 3\n",
    "\n",
    "Make a plot similar to the one in the Visualizing the Data section of the [Intro_to_Python notebook](https://github.com/AIBiology/Jupyter_Content/blob/main/Intro_to_Python_Student.ipynb), that shows a plot of salary distribution grouped by gender (sex in the dataset). You may also use other factors (discipline, yrs.service, etc.)\n",
    "\n",
    "*Purpose*: Give you experience visualizing data and grouping by different variables.\n",
    "\n",
    "This problem does not have an auto-graded portion. I'll grade it manually."
   ]
  },
  {
   "cell_type": "code",
   "execution_count": null,
   "metadata": {},
   "outputs": [],
   "source": []
  }
 ],
 "metadata": {
  "kernelspec": {
   "display_name": "Python 3 (ipykernel)",
   "language": "python",
   "name": "python3"
  },
  "language_info": {
   "codemirror_mode": {
    "name": "ipython",
    "version": 3
   },
   "file_extension": ".py",
   "mimetype": "text/x-python",
   "name": "python",
   "nbconvert_exporter": "python",
   "pygments_lexer": "ipython3",
   "version": "3.8.1"
  }
 },
 "nbformat": 4,
 "nbformat_minor": 4
}
